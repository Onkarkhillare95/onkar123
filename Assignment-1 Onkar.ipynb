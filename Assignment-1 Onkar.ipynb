{
 "cells": [
  {
   "cell_type": "code",
   "execution_count": 2,
   "id": "5a8d177b-79c3-4b96-9739-025f0d3d63ac",
   "metadata": {},
   "outputs": [],
   "source": [
    "O = \"Onkar\" "
   ]
  },
  {
   "cell_type": "code",
   "execution_count": 3,
   "id": "69c80913-ee6c-4587-9413-223d5c1e95cd",
   "metadata": {},
   "outputs": [],
   "source": [
    "list = \"onkar\" , 1, 2, 3, 7.5, \"amazon\" , "
   ]
  },
  {
   "cell_type": "code",
   "execution_count": 5,
   "id": "4f8ad594-c32a-421d-8580-e25ba8e42667",
   "metadata": {},
   "outputs": [],
   "source": [
    "float = (7.5)"
   ]
  },
  {
   "cell_type": "code",
   "execution_count": 6,
   "id": "d1fed45c-a930-4ad9-8e0d-c77c9cd9fefb",
   "metadata": {},
   "outputs": [],
   "source": [
    "tuple= (\"onkar\",12,25, \"PW\")"
   ]
  },
  {
   "cell_type": "code",
   "execution_count": null,
   "id": "33dc4c77-b905-49bf-82d5-98e2030cb44f",
   "metadata": {},
   "outputs": [],
   "source": [
    "#Q2. Given are some following variables containing data:\n"
   ]
  },
  {
   "cell_type": "code",
   "execution_count": 8,
   "id": "cdbe5ebc-6c64-45b8-84ac-c0f372ef231a",
   "metadata": {},
   "outputs": [],
   "source": [
    "#(i) var1 = ‘ ‘ is sring \n",
    "#(ii) var2 = ‘[ DS , ML , Python]’  is a string.\n",
    "#(iii) var3 = [ ‘DS’ , ’ML’ , ‘Python’ ] this is list\n",
    "#(iv) var4 = 1 this is Intr"
   ]
  },
  {
   "cell_type": "code",
   "execution_count": null,
   "id": "5699bd57-21d1-49b7-b617-0ec47ac83e20",
   "metadata": {},
   "outputs": [],
   "source": [
    "#Q3. Explain the use of the following operators using an example:\n",
    "#(i) /\n",
    "#(ii) %\n",
    "#(iii) //\n",
    "#(iv) **"
   ]
  },
  {
   "cell_type": "code",
   "execution_count": 10,
   "id": "3b9e4344-1894-4d6a-955f-87aae6580783",
   "metadata": {},
   "outputs": [
    {
     "data": {
      "text/plain": [
       "5.0"
      ]
     },
     "execution_count": 10,
     "metadata": {},
     "output_type": "execute_result"
    }
   ],
   "source": [
    "#/ Division Operator: The division operator / is used to perform division between two numbers \n",
    "10/2"
   ]
  },
  {
   "cell_type": "code",
   "execution_count": 11,
   "id": "471ceaa0-5dee-4558-9b9c-e018f00217ac",
   "metadata": {},
   "outputs": [
    {
     "data": {
      "text/plain": [
       "0"
      ]
     },
     "execution_count": 11,
     "metadata": {},
     "output_type": "execute_result"
    }
   ],
   "source": [
    "#% (Modulus Operator): The modulus operator % is used to find the remainder of the division operation between two numbers.\n",
    "10%2"
   ]
  },
  {
   "cell_type": "code",
   "execution_count": 14,
   "id": "47015af9-f698-48c8-a5be-726bad6e0d72",
   "metadata": {},
   "outputs": [
    {
     "data": {
      "text/plain": [
       "2"
      ]
     },
     "execution_count": 14,
     "metadata": {},
     "output_type": "execute_result"
    }
   ],
   "source": [
    "#// (Floor Division Operator): The floor division operator // performs division between two numbers and returns the result rounded down to the nearest whole number \n",
    "10//4"
   ]
  },
  {
   "cell_type": "code",
   "execution_count": 15,
   "id": "447d5606-15bb-4fbe-91a3-13b324f30376",
   "metadata": {},
   "outputs": [
    {
     "data": {
      "text/plain": [
       "343"
      ]
     },
     "execution_count": 15,
     "metadata": {},
     "output_type": "execute_result"
    }
   ],
   "source": [
    "# ** (Exponentiation Operator): The exponentiation operator ** is used to raise a number to a power. It calculates the value of the base raised to the exponent.\n",
    "7**3"
   ]
  },
  {
   "cell_type": "code",
   "execution_count": 34,
   "id": "7dccec5b-3330-4ac7-82e9-029610562299",
   "metadata": {},
   "outputs": [
    {
     "name": "stdout",
     "output_type": "stream",
     "text": [
      "<class 'str'>\n",
      "<class 'int'>\n",
      "<class 'float'>\n",
      "<class 'bool'>\n",
      "<class 'NoneType'>\n",
      "<class 'str'>\n",
      "<class 'bool'>\n",
      "<class 'float'>\n",
      "<class 'int'>\n"
     ]
    }
   ],
   "source": [
    "#Q4. Create a list of length 10 of your choice containing multiple types of data. Using for loop print the\n",
    "#element and its data type.\n",
    "\n",
    "l = [\"Onkar\", 27, 9.14, True, None, \"Hello\", False, 25.4, 17]\n",
    "\n",
    "for i in l:\n",
    "    print(type(i))\n",
    "\n"
   ]
  },
  {
   "cell_type": "code",
   "execution_count": 35,
   "id": "279fbbf0-fca1-4a0f-8a04-59a00188bdc8",
   "metadata": {},
   "outputs": [
    {
     "name": "stdout",
     "output_type": "stream",
     "text": [
      "Number A is divisible by number B 2 times.\n"
     ]
    }
   ],
   "source": [
    "#Q5. Using a while loop, verify if the number A is purely divisible by number B and if so then how many\n",
    "#times it can be divisible.\n",
    "A = 100\n",
    "B = 5\n",
    "\n",
    "count = 0\n",
    "\n",
    "while A % B == 0:\n",
    "    A = A // B\n",
    "    count += 1\n",
    "\n",
    "print(f\"Number A is divisible by number B {count} times.\")\n",
    "\n"
   ]
  },
  {
   "cell_type": "code",
   "execution_count": 37,
   "id": "011d16fd-73d2-413f-a3c4-499cfed4414e",
   "metadata": {},
   "outputs": [
    {
     "name": "stdout",
     "output_type": "stream",
     "text": [
      "12 is divisible by 3.\n",
      "8 is not divisible by 3.\n",
      "6 is divisible by 3.\n",
      "45 is divisible by 3.\n",
      "20 is not divisible by 3.\n",
      "27 is divisible by 3.\n",
      "14 is not divisible by 3.\n",
      "36 is divisible by 3.\n",
      "9 is divisible by 3.\n",
      "10 is not divisible by 3.\n",
      "18 is divisible by 3.\n",
      "25 is not divisible by 3.\n",
      "70 is not divisible by 3.\n",
      "21 is divisible by 3.\n",
      "15 is divisible by 3.\n",
      "24 is divisible by 3.\n",
      "16 is not divisible by 3.\n",
      "33 is divisible by 3.\n",
      "22 is not divisible by 3.\n",
      "11 is not divisible by 3.\n",
      "42 is divisible by 3.\n",
      "25 is not divisible by 3.\n",
      "19 is not divisible by 3.\n",
      "13 is not divisible by 3.\n",
      "39 is divisible by 3.\n"
     ]
    }
   ],
   "source": [
    "Onkar = [12, 8, 6, 45, 20, 27, 14, 36, 9, 10, 18, 25, 70, 21, 15, 24, 16, 33, 22, 11, 42, 25, 19, 13, 39]\n",
    "\n",
    "for element in Onkar:\n",
    "    if element % 3 == 0:\n",
    "        print(f\"{element} is divisible by 3.\")\n",
    "    else:\n",
    "        print(f\"{element} is not divisible by 3.\")\n"
   ]
  },
  {
   "cell_type": "code",
   "execution_count": null,
   "id": "918c51aa-9730-4285-aaab-4e0aea7e605c",
   "metadata": {},
   "outputs": [],
   "source": [
    "#What do you understand about mutable and immutable data types? Give examples for both showing\n",
    "#this property.\n",
    "# ANSwer Mutable data types in Python are those whose values can be modified after creation, while immutable data types are those whose values cannot be changed once created.\n",
    "\n",
    "Examples of mutable data types:\n",
    "\n",
    "\n",
    "List: Onkar = [1, 2, 3]\n",
    "Dictionary: Onkar2 = {'key': 'value'}\n",
    "Set: Onkar3 = {1, 2, 3}\n",
    "\n",
    "Examples of immutable data types:\n",
    "\n",
    "Integer:  = 5\n",
    "String:  = \"Hello\"\n",
    "Tuple:  = (1, 2, 3)\n"
   ]
  }
 ],
 "metadata": {
  "kernelspec": {
   "display_name": "Python 3 (ipykernel)",
   "language": "python",
   "name": "python3"
  },
  "language_info": {
   "codemirror_mode": {
    "name": "ipython",
    "version": 3
   },
   "file_extension": ".py",
   "mimetype": "text/x-python",
   "name": "python",
   "nbconvert_exporter": "python",
   "pygments_lexer": "ipython3",
   "version": "3.10.8"
  }
 },
 "nbformat": 4,
 "nbformat_minor": 5
}
